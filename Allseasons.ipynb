{
  "nbformat": 4,
  "nbformat_minor": 0,
  "metadata": {
    "colab": {
      "provenance": [],
      "authorship_tag": "ABX9TyOSGIe4O8cyulN6Gdlnrcx9",
      "include_colab_link": true
    },
    "kernelspec": {
      "name": "python3",
      "display_name": "Python 3"
    },
    "language_info": {
      "name": "python"
    }
  },
  "cells": [
    {
      "cell_type": "markdown",
      "metadata": {
        "id": "view-in-github",
        "colab_type": "text"
      },
      "source": [
        "<a href=\"https://colab.research.google.com/github/SallyPosey/SportsAnalytics/blob/main/Allseasons.ipynb\" target=\"_parent\"><img src=\"https://colab.research.google.com/assets/colab-badge.svg\" alt=\"Open In Colab\"/></a>"
      ]
    },
    {
      "cell_type": "code",
      "execution_count": 3,
      "metadata": {
        "id": "ex7-aLEggoiR"
      },
      "outputs": [],
      "source": [
        "import pandas as pd\n",
        "import numpy as np\n"
      ]
    },
    {
      "cell_type": "code",
      "source": [
        "#Season 2013-2014 will be listed as S13\n",
        "\n",
        "Ssn13 = \"https://raw.githubusercontent.com/SallyPosey/SportsAnalytics/refs/heads/main/13-14-Basketball.csv\"\n",
        "S13 = pd.read_csv(Ssn13)\n",
        "\n",
        "Ssn14 = \"https://raw.githubusercontent.com/SallyPosey/SportsAnalytics/refs/heads/main/14-15-Basketball.csv\"\n",
        "S14 = pd.read_csv(Ssn14)\n",
        "\n",
        "Ssn15 = \"https://raw.githubusercontent.com/SallyPosey/SportsAnalytics/refs/heads/main/15-16-Basketball.csv\"\n",
        "S15 = pd.read_csv(Ssn15)\n",
        "\n",
        "Ssn16 = \"https://raw.githubusercontent.com/SallyPosey/SportsAnalytics/refs/heads/main/16-17-Basketball.csv\"\n",
        "S16 = pd.read_csv(Ssn16)\n",
        "\n",
        "#Season 17 is excluded from available data\n",
        "\n",
        "Ssn18 = \"https://raw.githubusercontent.com/SallyPosey/SportsAnalytics/refs/heads/main/18-19-Basketball.csv\"\n",
        "S18 = pd.read_csv(Ssn18)\n",
        "\n",
        "Ssn19 = \"https://raw.githubusercontent.com/SallyPosey/SportsAnalytics/refs/heads/main/19-20-Basketball.csv\"\n",
        "S19 = pd.read_csv(Ssn19)\n",
        "\n",
        "Ssn20 = \"https://raw.githubusercontent.com/SallyPosey/SportsAnalytics/refs/heads/main/20-21-Basketball.csv\"\n",
        "S20 = pd.read_csv(Ssn20)\n",
        "\n",
        "Ssn21 = \"https://raw.githubusercontent.com/SallyPosey/SportsAnalytics/refs/heads/main/21-22-Basketball.csv\"\n",
        "S21 = pd.read_csv(Ssn21)\n",
        "\n",
        "Ssn22 = \"https://raw.githubusercontent.com/SallyPosey/SportsAnalytics/refs/heads/main/22-23-Basketball.csv\"\n",
        "S22 = pd.read_csv(Ssn22)\n",
        "\n",
        "Ssn23 = \"https://raw.githubusercontent.com/SallyPosey/SportsAnalytics/refs/heads/main/23-24-Basketball.csv\"\n",
        "S23 = pd.read_csv(Ssn23)\n",
        "\n",
        "Ssn24 = \"https://raw.githubusercontent.com/SallyPosey/SportsAnalytics/refs/heads/main/24-25-Basketball.csv\"\n",
        "S24 = pd.read_csv(Ssn24)"
      ],
      "metadata": {
        "id": "vfrZYG5rhSUx"
      },
      "execution_count": 7,
      "outputs": []
    }
  ]
}